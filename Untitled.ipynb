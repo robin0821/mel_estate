{
 "cells": [
  {
   "cell_type": "code",
   "execution_count": 1,
   "metadata": {},
   "outputs": [],
   "source": [
    "import pandas as pd"
   ]
  },
  {
   "cell_type": "code",
   "execution_count": 2,
   "metadata": {},
   "outputs": [],
   "source": [
    "df = pd.read_csv(\"mel_estate.csv\")"
   ]
  },
  {
   "cell_type": "code",
   "execution_count": 3,
   "metadata": {},
   "outputs": [
    {
     "data": {
      "text/html": [
       "<div>\n",
       "<style scoped>\n",
       "    .dataframe tbody tr th:only-of-type {\n",
       "        vertical-align: middle;\n",
       "    }\n",
       "\n",
       "    .dataframe tbody tr th {\n",
       "        vertical-align: top;\n",
       "    }\n",
       "\n",
       "    .dataframe thead th {\n",
       "        text-align: right;\n",
       "    }\n",
       "</style>\n",
       "<table border=\"1\" class=\"dataframe\">\n",
       "  <thead>\n",
       "    <tr style=\"text-align: right;\">\n",
       "      <th></th>\n",
       "      <th>Agency</th>\n",
       "      <th>Price</th>\n",
       "      <th>DateSold</th>\n",
       "      <th>StreetAddress</th>\n",
       "      <th>Postcode</th>\n",
       "      <th>Locality</th>\n",
       "      <th>Latitude</th>\n",
       "      <th>Longitude</th>\n",
       "      <th>LandSize</th>\n",
       "      <th>LandSizeUnit</th>\n",
       "      <th>Bedrooms</th>\n",
       "      <th>Bathrooms</th>\n",
       "      <th>ParkingSpaces</th>\n",
       "      <th>PropertyType</th>\n",
       "    </tr>\n",
       "  </thead>\n",
       "  <tbody>\n",
       "    <tr>\n",
       "      <th>0</th>\n",
       "      <td>First National Real Estate Mike Brown</td>\n",
       "      <td>9500000</td>\n",
       "      <td>2017-06-16</td>\n",
       "      <td>111 Mangans Rd</td>\n",
       "      <td>3140</td>\n",
       "      <td>Lilydale</td>\n",
       "      <td>-37.754930</td>\n",
       "      <td>145.371809</td>\n",
       "      <td>33285</td>\n",
       "      <td>m2</td>\n",
       "      <td>30</td>\n",
       "      <td>16</td>\n",
       "      <td>28</td>\n",
       "      <td>house</td>\n",
       "    </tr>\n",
       "    <tr>\n",
       "      <th>1</th>\n",
       "      <td>Marshall White</td>\n",
       "      <td>8150000</td>\n",
       "      <td>2017-05-23</td>\n",
       "      <td>7 Dunraven Avenue</td>\n",
       "      <td>3142</td>\n",
       "      <td>Toorak</td>\n",
       "      <td>-37.845278</td>\n",
       "      <td>145.014403</td>\n",
       "      <td>634</td>\n",
       "      <td>m2</td>\n",
       "      <td>4</td>\n",
       "      <td>3</td>\n",
       "      <td>3</td>\n",
       "      <td>house</td>\n",
       "    </tr>\n",
       "    <tr>\n",
       "      <th>2</th>\n",
       "      <td>Aqua Real Estate</td>\n",
       "      <td>7250000</td>\n",
       "      <td>2014-10-17</td>\n",
       "      <td>11 Williams Road</td>\n",
       "      <td>3930</td>\n",
       "      <td>Mount Eliza</td>\n",
       "      <td>-38.174377</td>\n",
       "      <td>145.091247</td>\n",
       "      <td>17184</td>\n",
       "      <td>m2</td>\n",
       "      <td>7</td>\n",
       "      <td>6</td>\n",
       "      <td>5</td>\n",
       "      <td>house</td>\n",
       "    </tr>\n",
       "    <tr>\n",
       "      <th>3</th>\n",
       "      <td>Lindellas Real Estate</td>\n",
       "      <td>6850000</td>\n",
       "      <td>2017-02-22</td>\n",
       "      <td>701 Station Street</td>\n",
       "      <td>3128</td>\n",
       "      <td>Box Hill</td>\n",
       "      <td>-37.817247</td>\n",
       "      <td>145.123739</td>\n",
       "      <td>662</td>\n",
       "      <td>m2</td>\n",
       "      <td>1</td>\n",
       "      <td>1</td>\n",
       "      <td>1</td>\n",
       "      <td>house</td>\n",
       "    </tr>\n",
       "    <tr>\n",
       "      <th>4</th>\n",
       "      <td>Lindellas Real Estate</td>\n",
       "      <td>6680000</td>\n",
       "      <td>2016-08-11</td>\n",
       "      <td>9-11 Ellingworth Parade</td>\n",
       "      <td>3128</td>\n",
       "      <td>Box Hill</td>\n",
       "      <td>-37.820382</td>\n",
       "      <td>145.124578</td>\n",
       "      <td>928</td>\n",
       "      <td>m2</td>\n",
       "      <td>2</td>\n",
       "      <td>2</td>\n",
       "      <td>1</td>\n",
       "      <td>house</td>\n",
       "    </tr>\n",
       "  </tbody>\n",
       "</table>\n",
       "</div>"
      ],
      "text/plain": [
       "                                  Agency    Price    DateSold  \\\n",
       "0  First National Real Estate Mike Brown  9500000  2017-06-16   \n",
       "1                         Marshall White  8150000  2017-05-23   \n",
       "2                       Aqua Real Estate  7250000  2014-10-17   \n",
       "3                  Lindellas Real Estate  6850000  2017-02-22   \n",
       "4                  Lindellas Real Estate  6680000  2016-08-11   \n",
       "\n",
       "             StreetAddress  Postcode     Locality   Latitude   Longitude  \\\n",
       "0           111 Mangans Rd      3140     Lilydale -37.754930  145.371809   \n",
       "1        7 Dunraven Avenue      3142       Toorak -37.845278  145.014403   \n",
       "2         11 Williams Road      3930  Mount Eliza -38.174377  145.091247   \n",
       "3       701 Station Street      3128     Box Hill -37.817247  145.123739   \n",
       "4  9-11 Ellingworth Parade      3128     Box Hill -37.820382  145.124578   \n",
       "\n",
       "   LandSize LandSizeUnit  Bedrooms  Bathrooms  ParkingSpaces PropertyType  \n",
       "0     33285           m2        30         16             28        house  \n",
       "1       634           m2         4          3              3        house  \n",
       "2     17184           m2         7          6              5        house  \n",
       "3       662           m2         1          1              1        house  \n",
       "4       928           m2         2          2              1        house  "
      ]
     },
     "execution_count": 3,
     "metadata": {},
     "output_type": "execute_result"
    }
   ],
   "source": [
    "df.head()"
   ]
  },
  {
   "cell_type": "code",
   "execution_count": 4,
   "metadata": {},
   "outputs": [
    {
     "data": {
      "text/plain": [
       "(98377, 14)"
      ]
     },
     "execution_count": 4,
     "metadata": {},
     "output_type": "execute_result"
    }
   ],
   "source": [
    "df.shape"
   ]
  },
  {
   "cell_type": "code",
   "execution_count": 7,
   "metadata": {},
   "outputs": [
    {
     "name": "stdout",
     "output_type": "stream",
     "text": [
      " 驱动器 C 中的卷是 Windows\n",
      " 卷的序列号是 9EF4-9E16\n",
      "\n",
      " C:\\Users\\robin\\apps\\mel_estate 的目录\n",
      "\n",
      "2018/08/15  09:45    <DIR>          .\n",
      "2018/08/15  09:45    <DIR>          ..\n",
      "2018/08/15  09:45    <DIR>          .ipynb_checkpoints\n",
      "2018/08/15  09:19            15,069 app.py\n",
      "2018/08/01  21:47        11,100,645 mel_estate.csv\n",
      "2018/08/15  09:45                72 Untitled.ipynb\n",
      "2018/08/15  09:42    <DIR>          venv\n",
      "               3 个文件     11,115,786 字节\n",
      "               4 个目录  3,876,540,416 可用字节\n"
     ]
    }
   ],
   "source": [
    "!dir"
   ]
  },
  {
   "cell_type": "code",
   "execution_count": null,
   "metadata": {},
   "outputs": [],
   "source": []
  }
 ],
 "metadata": {
  "kernelspec": {
   "display_name": "Python 3",
   "language": "python",
   "name": "python3"
  },
  "language_info": {
   "codemirror_mode": {
    "name": "ipython",
    "version": 3
   },
   "file_extension": ".py",
   "mimetype": "text/x-python",
   "name": "python",
   "nbconvert_exporter": "python",
   "pygments_lexer": "ipython3",
   "version": "3.6.6"
  }
 },
 "nbformat": 4,
 "nbformat_minor": 2
}
